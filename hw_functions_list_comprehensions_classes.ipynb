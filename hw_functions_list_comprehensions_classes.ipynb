{
  "cells": [
    {
      "cell_type": "markdown",
      "metadata": {
        "id": "view-in-github",
        "colab_type": "text"
      },
      "source": [
        "<a href=\"https://colab.research.google.com/github/YuliiaUtkina/Additional-tasks/blob/main/hw_functions_list_comprehensions_classes.ipynb\" target=\"_parent\"><img src=\"https://colab.research.google.com/assets/colab-badge.svg\" alt=\"Open In Colab\"/></a>"
      ]
    },
    {
      "cell_type": "markdown",
      "id": "1846cdd5",
      "metadata": {
        "id": "1846cdd5"
      },
      "source": [
        "В цьому наборі завдань попрацюємо з фукнціями, класами та list comprehensions.\n",
        "Нагадую синтаксис list comprehension\n",
        "- з умовою if:\n",
        "```\n",
        "newlist = [expression for item in iterable if condition == True]\n",
        "```\n",
        "\n",
        "- з умовою if...else:\n",
        "```\n",
        "newlist = [expression if condition == True else second_expression for item in iterable ]\n",
        "```"
      ]
    },
    {
      "cell_type": "markdown",
      "id": "306cbd4e",
      "metadata": {
        "id": "306cbd4e"
      },
      "source": [
        "1.Задана функція `strange_func`.\n",
        "Запустіть цю функцію на обчислення всіх елементів зі списку `input_list`. Результат обчислень запишіть у `output_list` та виведіть `output_list` на екран.\n",
        "\n",
        "Реалізуйте прохід всіх елементів списку `input_list` через цикл та через `list comprehension` - двома способами окремо."
      ]
    },
    {
      "cell_type": "code",
      "execution_count": null,
      "id": "b5bab760",
      "metadata": {
        "id": "b5bab760"
      },
      "outputs": [],
      "source": [
        "def strange_func(number: int) -> str:\n",
        "    if number < 0:\n",
        "        return \"слон\"\n",
        "    else:\n",
        "        return \"жираф\""
      ]
    },
    {
      "cell_type": "code",
      "execution_count": null,
      "id": "61d82a3e",
      "metadata": {
        "id": "61d82a3e"
      },
      "outputs": [],
      "source": [
        "input_list = [14, -48, 26, 33, 50, 36, 47, -3, 32, -6, -39, -1, 14, -35, 31, -28, 32, 4, 33, 11, -7, 43, -5, 17, -33, -37, 45, -27, -29, 14]"
      ]
    },
    {
      "cell_type": "code",
      "execution_count": null,
      "id": "NFV5ktetnyMA",
      "metadata": {
        "colab": {
          "base_uri": "https://localhost:8080/"
        },
        "id": "NFV5ktetnyMA",
        "outputId": "22ba357b-0fa2-48c2-e2fa-12b54ab9402b"
      },
      "outputs": [
        {
          "name": "stdout",
          "output_type": "stream",
          "text": [
            "['жираф', 'слон', 'жираф', 'жираф', 'жираф', 'жираф', 'жираф', 'слон', 'жираф', 'слон', 'слон', 'слон', 'жираф', 'слон', 'жираф', 'слон', 'жираф', 'жираф', 'жираф', 'жираф', 'слон', 'жираф', 'слон', 'жираф', 'слон', 'слон', 'жираф', 'слон', 'слон', 'жираф', 'слон', 'слон', 'слон', 'слон', 'слон', 'слон', 'слон', 'слон', 'слон', 'слон', 'слон', 'слон', 'слон', 'слон', 'слон', 'слон', 'слон']\n"
          ]
        }
      ],
      "source": [
        "# Проходимо кожен елемент списку input_list через цикл\n",
        "for num in input_list:\n",
        "    if num < 0:\n",
        "        result = strange_func(num)\n",
        "    else:\n",
        "        output_list.append(result)  # Додаємо результат у вихідний список\n",
        "print (output_list)"
      ]
    },
    {
      "cell_type": "code",
      "execution_count": null,
      "id": "8eb67fab",
      "metadata": {
        "colab": {
          "base_uri": "https://localhost:8080/"
        },
        "id": "8eb67fab",
        "outputId": "18a025d2-aad9-4caf-f09e-74ea1ea8559c"
      },
      "outputs": [
        {
          "name": "stdout",
          "output_type": "stream",
          "text": [
            "['жираф', 'слон', 'жираф', 'жираф', 'жираф', 'жираф', 'жираф', 'слон', 'жираф', 'слон', 'слон', 'слон', 'жираф', 'слон', 'жираф', 'слон', 'жираф', 'жираф', 'жираф', 'жираф', 'слон', 'жираф', 'слон', 'жираф', 'слон', 'слон', 'жираф', 'слон', 'слон', 'жираф']\n"
          ]
        }
      ],
      "source": [
        "output_list = [\"слон\" if number < 0 else \"жираф\" for number in input_list ]\n",
        "print (output_list)"
      ]
    },
    {
      "cell_type": "markdown",
      "id": "39a81ffe",
      "metadata": {
        "id": "39a81ffe"
      },
      "source": [
        "Очікуваний результат: ```['жираф', 'слон', 'жираф', 'жираф', 'жираф', 'жираф', 'жираф', 'слон', 'жираф', 'слон', 'слон', 'слон', 'жираф', 'слон', 'жираф', 'слон', 'жираф', 'жираф', 'жираф', 'жираф', 'слон', 'жираф', 'слон', 'жираф', 'слон', 'слон', 'жираф', 'слон', 'слон', 'жираф']```"
      ]
    },
    {
      "cell_type": "markdown",
      "id": "cd421b5b",
      "metadata": {
        "id": "cd421b5b"
      },
      "source": [
        "2.Напишіть функцію `custom_func`, яка приймає на вхід число, перевіряє, чи воно є цілочислельного типу, і якщо так, то перевіряє число на парність:\n",
        "- якщо парне - вертає це число в степені 3,\n",
        "- а якщо непарне - це число мінус 10.  \n",
        "\n",
        "Якщо ж число на вході не цілочисельного типу, функція вертає 0.  \n",
        "\n",
        "Запустіть цю функцію на обчислення всіх чисел зі списку `input_list`. Результат обчислень запишіть у `output_list` та виведіть `output_list` на екран.\n",
        "\n",
        "Реалізуйте прохід всіх чисел списку `input_list` через цикл та через `list comprehension` - двома способами окремо."
      ]
    },
    {
      "cell_type": "code",
      "execution_count": null,
      "id": "384b00e0",
      "metadata": {
        "id": "384b00e0"
      },
      "outputs": [],
      "source": [
        "input_list = [36, 11.1, 91, 93, 26, 12.3213, 69, 50, 58, 22, 77, 18, 24, 55, 11, 76, 10.111, 39, 49, 94, 34, 40, 13, 111.111, 26, 44, 11, 34, 30, 39, 84, 37, 16, 1]"
      ]
    },
    {
      "cell_type": "code",
      "execution_count": null,
      "id": "a9220273",
      "metadata": {
        "id": "a9220273"
      },
      "outputs": [],
      "source": [
        "# Функція на обчислення всіх чисел зі списку input_list\n",
        "def custom_func (i):\n",
        "    if type(i) == int and i % 2 == 0:\n",
        "       return(i**3)\n",
        "    if  type(i) == int and i % 2 != 0:\n",
        "       return(i-10)\n",
        "    else:\n",
        "       return(0)"
      ]
    },
    {
      "cell_type": "code",
      "execution_count": null,
      "id": "aIh90BfBztfv",
      "metadata": {
        "colab": {
          "base_uri": "https://localhost:8080/"
        },
        "id": "aIh90BfBztfv",
        "outputId": "917a0de8-796f-4944-e29f-358e0f237fdc"
      },
      "outputs": [
        {
          "output_type": "stream",
          "name": "stdout",
          "text": [
            "[46656, 0, 81, 83, 17576, 0, 59, 125000, 195112, 10648, 67, 5832, 13824, 45, 1, 438976, 0, 29, 39, 830584, 39304, 64000, 3, 0, 17576, 85184, 1, 39304, 27000, 29, 592704, 27, 4096, -9]\n"
          ]
        }
      ],
      "source": [
        "# Проходимо кожен елемент списку input_list через list comprehension\n",
        "output_list =[custom_func(i) for i in input_list ]\n",
        "print (output_list)\n"
      ]
    },
    {
      "cell_type": "code",
      "execution_count": null,
      "id": "aCR27M162Hml",
      "metadata": {
        "colab": {
          "base_uri": "https://localhost:8080/"
        },
        "id": "aCR27M162Hml",
        "outputId": "c4b97bb6-94e3-47cc-ed0d-d898c06a1e4c"
      },
      "outputs": [
        {
          "name": "stdout",
          "output_type": "stream",
          "text": [
            "[46656, 0, 81, 83, 17576, 0, 59, 125000, 195112, 10648, 67, 5832, 13824, 45, 1, 438976, 0, 29, 39, 830584, 39304, 64000, 3, 0, 17576, 85184, 1, 39304, 27000, 29, 592704, 27, 4096, -9, 'слон', 'слон', 'слон', 'слон', 'слон', 'слон', 'слон', 'слон', 'слон', 'слон', 'слон', 'слон', 'слон', 'слон', 'слон', 'слон', 'слон', 'слон', 'слон', 'слон', 'слон', 'слон', 'слон', 'слон', 'слон', 'слон', 'слон', 'слон', 'слон', 'слон', 'слон', 'слон', 'слон', 'слон']\n"
          ]
        }
      ],
      "source": [
        "# Проходимо кожен елемент списку input_list через цикл\n",
        "for num in input_list:\n",
        "    if num < 0:\n",
        "        result = custom_func(num)\n",
        "    else:\n",
        "        output_list.append(result)  # Додаємо результат у вихідний список\n",
        "print(output_list)"
      ]
    },
    {
      "cell_type": "markdown",
      "id": "e2723875",
      "metadata": {
        "id": "e2723875"
      },
      "source": [
        "Очікуваний результат:\n",
        "```[46656, 0, 81, 83, 17576, 0, 59, 125000, 195112, 10648, 67, 5832, 13824, 45, 1, 438976, 0, 29, 39, 830584, 39304, 64000, 3, 0, 17576, 85184, 1, 39304, 27000, 29, 592704, 27, 4096, -9]```"
      ]
    },
    {
      "cell_type": "markdown",
      "id": "12db4919",
      "metadata": {
        "id": "12db4919"
      },
      "source": [
        "Аби програмно порівняти ваш результат за очікуваним - використайте код нижче:"
      ]
    },
    {
      "cell_type": "code",
      "execution_count": null,
      "id": "84c13de2",
      "metadata": {
        "colab": {
          "base_uri": "https://localhost:8080/"
        },
        "id": "84c13de2",
        "outputId": "cbf15cd1-56d5-4a9a-977c-071c1930c8db"
      },
      "outputs": [
        {
          "data": {
            "text/plain": [
              "True"
            ]
          },
          "execution_count": 59,
          "metadata": {},
          "output_type": "execute_result"
        }
      ],
      "source": [
        "output_list == [46656, 0, 81, 83, 17576, 0, 59, 125000, 195112, 10648, 67, 5832, 13824, 45, 1, 438976, 0, 29, 39, 830584, 39304, 64000, 3, 0, 17576, 85184, 1, 39304, 27000, 29, 592704, 27, 4096, -9]"
      ]
    },
    {
      "cell_type": "markdown",
      "id": "602e8fd8",
      "metadata": {
        "id": "602e8fd8"
      },
      "source": [
        "3.Напишіть функцію, яка отримує список чисел і повертає інший список із квадратами чисел, які діляться на 2 із вихідного списку. Наприклад, якщо на вході список [1,2,3,4], то на виході буде список [4,8].\n",
        "\n",
        "Запустіть функцію на вхідних списках `numbers_1`, `numbers_2`, `numbers_3` та виведіть результат роботи фукнції на екран."
      ]
    },
    {
      "cell_type": "code",
      "execution_count": null,
      "id": "4ed96c9d",
      "metadata": {
        "id": "4ed96c9d"
      },
      "outputs": [],
      "source": [
        "numbers_1 = [1, 2, 3, 4, 5, 6, 7, 8, 9, 10]\n",
        "numbers_2 = [-18, 35, 50, 2, -39, 8, -39, -15, 14, -42]\n",
        "numbers_3 = [-3.1, 1.11, 3.48, 4.48, 4.68, -1.59, -1.8, 1.76, 4.7, 2.0]"
      ]
    },
    {
      "cell_type": "code",
      "execution_count": null,
      "id": "d8b1a5d7",
      "metadata": {
        "id": "d8b1a5d7"
      },
      "outputs": [],
      "source": [
        "def squares_divisible_by_2(numbers):\n",
        "    squares = []\n",
        "    for num in numbers:\n",
        "        square = num ** 2\n",
        "        if square % 2 == 0:\n",
        "           squares.append(square)  # Додаємо до списку квадрат числа, яке ділиться на 2\n",
        "    return squares\n",
        "\n"
      ]
    },
    {
      "cell_type": "code",
      "execution_count": null,
      "id": "82kr6Bqt_yIi",
      "metadata": {
        "colab": {
          "base_uri": "https://localhost:8080/"
        },
        "id": "82kr6Bqt_yIi",
        "outputId": "dc728706-4910-4eec-9fd8-ec2abfc10d3c"
      },
      "outputs": [
        {
          "name": "stdout",
          "output_type": "stream",
          "text": [
            "[4, 16, 36, 64, 100]\n",
            "[324, 2500, 4, 64, 196, 1764]\n",
            "[4.0]\n"
          ]
        }
      ],
      "source": [
        "result_1 = squares_divisible_by_2(numbers_1)\n",
        "result_2 = squares_divisible_by_2(numbers_2)\n",
        "result_3 = squares_divisible_by_2(numbers_3)\n",
        "print (result_1)\n",
        "print (result_2)\n",
        "print (result_3)"
      ]
    },
    {
      "cell_type": "markdown",
      "id": "96fead27",
      "metadata": {
        "id": "96fead27"
      },
      "source": [
        "Очікуваний результат:\n",
        "\n",
        "```\n",
        "    [4, 16, 36, 64, 100]\n",
        "    [324, 2500, 4, 64, 196, 1764]\n",
        "    [4.0]\n",
        "```"
      ]
    },
    {
      "cell_type": "markdown",
      "id": "93830499",
      "metadata": {
        "id": "93830499"
      },
      "source": [
        "4. Наданий список фруктів. Запишіть у новий список лише ті фрукти, які містять у своїй назві літеру `a`. Виведіть фінальний список на екран.\n",
        "\n",
        "Виконайте завдання із використанням циклу, та через `list comprehension` - двома способами окремо.  \n",
        "Увага! В цьому завданні логіку перевірки чи містить рядок літеру можна винести у функцію. Але якщо не виносити, то реалізація з `list comprehension` буде цікавішою :)"
      ]
    },
    {
      "cell_type": "code",
      "execution_count": null,
      "id": "9d52d585",
      "metadata": {
        "id": "9d52d585"
      },
      "outputs": [],
      "source": [
        "fruits = [\"apple\", \"banana\", \"cherry\", \"date\", \"elderberry\", \"fig\", \"grape\", \"honeydew\", \"indian prune\", \"jackfruit\", \"kiwi\", \"lemon\", \"mango\", \"nectarine\", \"orange\", \"pineapple\", \"quince\", \"raspberry\", \"strawberry\", \"tangerine\", \"ugli fruit\", \"victoria plum\", \"watermelon\", \"xigua\", \"yellow passionfruit\", \"zucchini\"]"
      ]
    },
    {
      "cell_type": "code",
      "execution_count": null,
      "id": "e503441f",
      "metadata": {
        "id": "e503441f",
        "colab": {
          "base_uri": "https://localhost:8080/"
        },
        "outputId": "c2d960fc-6d8c-46b3-87cd-a8b57a5a15a6"
      },
      "outputs": [
        {
          "output_type": "stream",
          "name": "stdout",
          "text": [
            "['apple', 'banana', 'date', 'grape', 'indian prune', 'jackfruit', 'mango', 'nectarine', 'orange', 'pineapple', 'raspberry', 'strawberry', 'tangerine', 'victoria plum', 'watermelon', 'xigua', 'yellow passionfruit']\n"
          ]
        }
      ],
      "source": [
        "# Проходимо кожен елемент списку fruits через цикл\n",
        "my_list = []\n",
        "for word in fruits:\n",
        "    if 'a' in word.lower():\n",
        "        my_list.append(word)\n",
        "print(my_list)\n"
      ]
    },
    {
      "cell_type": "code",
      "source": [
        "# Проходимо кожен елемент списку fruits через list comprehension\n",
        "fruits_with_a = [fruit for fruit in fruits if 'a' in fruit]\n",
        "print (fruits_with_a)"
      ],
      "metadata": {
        "colab": {
          "base_uri": "https://localhost:8080/"
        },
        "id": "-2tl7zWZ5wMB",
        "outputId": "9d382bdf-9ff2-46df-a81c-ef03358f7a40"
      },
      "id": "-2tl7zWZ5wMB",
      "execution_count": null,
      "outputs": [
        {
          "output_type": "stream",
          "name": "stdout",
          "text": [
            "['apple', 'banana', 'date', 'grape', 'indian prune', 'jackfruit', 'mango', 'nectarine', 'orange', 'pineapple', 'raspberry', 'strawberry', 'tangerine', 'victoria plum', 'watermelon', 'xigua', 'yellow passionfruit']\n"
          ]
        }
      ]
    },
    {
      "cell_type": "markdown",
      "id": "6eba3ce5",
      "metadata": {
        "id": "6eba3ce5"
      },
      "source": [
        "5.Заданий список чисел. Створіть новий список на основі заданоо за наступною логікою\n",
        "- якщо число більше або дорівнює 45, то в новий список додаємо це число + 5. Наприклад, для числа 50 вихідного списку, в новий ми додамо число 55\n",
        "- інакше - це число - 4. Наприклад, для числа 30 вихідного списку, в новий ми додамо число 26  \n",
        "\n",
        "Виведіть отриманий список на екран.\n",
        "\n",
        "Реалізуйте логіку через цикл та через `list comprehension` - двома способами окремо."
      ]
    },
    {
      "cell_type": "code",
      "execution_count": null,
      "id": "64c30414",
      "metadata": {
        "id": "64c30414"
      },
      "outputs": [],
      "source": [
        "input_list = [22, 13, 45, 50, 98, 69, 43, 44, 1]"
      ]
    },
    {
      "cell_type": "code",
      "execution_count": null,
      "id": "0e3a8bcd",
      "metadata": {
        "id": "0e3a8bcd",
        "colab": {
          "base_uri": "https://localhost:8080/"
        },
        "outputId": "8ee9b0e8-c6b8-4777-f9f5-b14a2ca7573b"
      },
      "outputs": [
        {
          "output_type": "stream",
          "name": "stdout",
          "text": [
            "[18, 9, 50, 55, 103, 74, 39, 40, -3]\n"
          ]
        }
      ],
      "source": [
        "# Проходимо кожен елемент списку inpit_list через цикл\n",
        "my_list = []\n",
        "for num in input_list:\n",
        "    if num >= 45:\n",
        "       my_list.append(num + 5)\n",
        "    else:\n",
        "       my_list.append(num - 4)\n",
        "print(my_list)"
      ]
    },
    {
      "cell_type": "code",
      "source": [
        "# Проходимо кожен елемент списку inpit_list через list comprehension\n",
        "new_list = [num + 5 if num >= 45 else num - 4 for num in input_list ]\n",
        "print (new_list)"
      ],
      "metadata": {
        "colab": {
          "base_uri": "https://localhost:8080/"
        },
        "id": "mr990Ux5iQx3",
        "outputId": "dd4d3c88-0ed3-4dca-bf41-d05c48cdd407"
      },
      "id": "mr990Ux5iQx3",
      "execution_count": null,
      "outputs": [
        {
          "output_type": "stream",
          "name": "stdout",
          "text": [
            "[18, 9, 50, 55, 103, 74, 39, 40, -3]\n"
          ]
        }
      ]
    },
    {
      "cell_type": "markdown",
      "id": "3788acf1",
      "metadata": {
        "id": "3788acf1"
      },
      "source": [
        "6.Заданий список `input_list` з пропущеними значеннями. Напишіть логіку, за якою ми будемо створювати новий список такий, що якщо значення None, то ми замість нього вставляємо 0, інакше - елемент вихідного спику.\n",
        "Тобто зі списку [1, None, 2] за цією логікою ми отримаємо [1, 0, 2] у новому списку.\n",
        "\n",
        "Виведіть отриманий список на екран.\n",
        "\n",
        "Реалізуйте логіку через цикл та через list comprehension - двома способами окремо."
      ]
    },
    {
      "cell_type": "code",
      "execution_count": null,
      "id": "7124a4c2",
      "metadata": {
        "id": "7124a4c2"
      },
      "outputs": [],
      "source": [
        "input_list = [22, None, 13, None, None, 45, 50, 98, None, 69, 43, 44, 1, None]"
      ]
    },
    {
      "cell_type": "code",
      "execution_count": null,
      "id": "e7212a8c",
      "metadata": {
        "id": "e7212a8c",
        "colab": {
          "base_uri": "https://localhost:8080/"
        },
        "outputId": "be5a969b-3efc-468d-d685-c5da8bdb775c"
      },
      "outputs": [
        {
          "output_type": "stream",
          "name": "stdout",
          "text": [
            "[22, 0, 13, 0, 0, 45, 50, 98, 0, 69, 43, 44, 1, 0]\n"
          ]
        }
      ],
      "source": [
        "# Проходимо кожен елемент списку inpit_list через цикл\n",
        "my_list = []\n",
        "for num in input_list:\n",
        "    if num == None:\n",
        "       my_list.append(0)\n",
        "    else:\n",
        "       my_list.append(num)\n",
        "print(my_list)"
      ]
    },
    {
      "cell_type": "code",
      "source": [
        "# Проходимо кожен елемент списку inpit_list через list comprehension\n",
        "new_list = [0 if num == None else num for num in input_list ]\n",
        "print (new_list)"
      ],
      "metadata": {
        "colab": {
          "base_uri": "https://localhost:8080/"
        },
        "id": "SkmvxIl-66VI",
        "outputId": "ab9ded66-c126-4bee-c720-647eacae077a"
      },
      "id": "SkmvxIl-66VI",
      "execution_count": null,
      "outputs": [
        {
          "output_type": "stream",
          "name": "stdout",
          "text": [
            "[22, 0, 13, 0, 0, 45, 50, 98, 0, 69, 43, 44, 1, 0]\n"
          ]
        }
      ]
    },
    {
      "cell_type": "markdown",
      "id": "6d491849",
      "metadata": {
        "id": "6d491849"
      },
      "source": [
        "7.Заданий клас, який описує коло та вміє рахувати площу кола по заданому радіусу. Створіть два кола з радіусами 5 і 11. Обчислість з допомогою функціоналу класу площі цих двох кіл і виведіть результати на екран."
      ]
    },
    {
      "cell_type": "code",
      "execution_count": null,
      "id": "fa5b47ac",
      "metadata": {
        "id": "fa5b47ac"
      },
      "outputs": [],
      "source": [
        "import math\n",
        "\n",
        "class Circle:\n",
        "    def __init__(self, radius):\n",
        "        self.radius = radius\n",
        "\n",
        "    def calculate_area(self):\n",
        "        return round(math.pi * self.radius ** 2, 2)"
      ]
    },
    {
      "cell_type": "code",
      "execution_count": null,
      "id": "2bcdc94a",
      "metadata": {
        "id": "2bcdc94a",
        "colab": {
          "base_uri": "https://localhost:8080/"
        },
        "outputId": "5bc29180-121e-4832-b8cf-07b8ee16e158"
      },
      "outputs": [
        {
          "output_type": "stream",
          "name": "stdout",
          "text": [
            "Площа кола з радіусом 5: 78.54\n",
            "Площа кола з радіусом 11: 380.13\n"
          ]
        }
      ],
      "source": [
        "# Створення двох об'єктів класу Circle з радіусами 5 і 11\n",
        "circle1 = Circle(5)\n",
        "circle2 = Circle(11)\n",
        "\n",
        "# Обчислення площі для кожного кола\n",
        "area_circle1 = circle1.calculate_area()\n",
        "area_circle2 = circle2.calculate_area()\n",
        "\n",
        "# Виведення результатів на екран\n",
        "print(\"Площа кола з радіусом 5: {:.2f}\".format(area_circle1))\n",
        "print(\"Площа кола з радіусом 11: {:.2f}\".format(area_circle2))"
      ]
    },
    {
      "cell_type": "markdown",
      "id": "430f698b",
      "metadata": {
        "id": "430f698b"
      },
      "source": [
        "8.Додайте в клас `Circle`, визначений в попередньому завданні, метод для обчислення периметра `calculate_perimeter` з округленням до двох цифр після коми. Периметр кола рахується за формулою `C = 2 · π · r`, де π - це значення числа Пі, яке ми можемо отримати з math.pi, а r - радіус кола. Спопіюйте визначення класу і додайте в нього новий метод. Після цього створіть нові кола з радіусами 5 і 11 та обчисліть їх периметри.   \n",
        "Увага: нам треба додати новий метод, але ми нічого не видаляємо :)"
      ]
    },
    {
      "cell_type": "code",
      "execution_count": null,
      "id": "731544fd",
      "metadata": {
        "id": "731544fd",
        "colab": {
          "base_uri": "https://localhost:8080/"
        },
        "outputId": "5f17d171-945a-41a0-a3a2-928666d2a1d9"
      },
      "outputs": [
        {
          "output_type": "stream",
          "name": "stdout",
          "text": [
            "Периметр кола з радіусом 5: 31.42\n",
            "Периметр кола з радіусом 11: 69.12\n"
          ]
        }
      ],
      "source": [
        "import math\n",
        "\n",
        "class Circle:\n",
        "    def __init__(self, radius):\n",
        "        self.radius = radius\n",
        "\n",
        "    def calculate_area(self):\n",
        "        return round(math.pi * self.radius ** 2, 2)\n",
        "\n",
        "    def calculate_perimeter(self):\n",
        "        return round(2 * math.pi * self.radius, 2)\n",
        "\n",
        "# Створення двох об'єктів класу Circle з радіусами 5 і 11\n",
        "circle1 = Circle(5)\n",
        "circle2 = Circle(11)\n",
        "\n",
        "# Обчислення периметру для кожного кола\n",
        "perimeter_circle1 = circle1.calculate_perimeter()\n",
        "perimeter_circle2 = circle2.calculate_perimeter()\n",
        "\n",
        "print(\"Периметр кола з радіусом 5: {:.2f}\".format(perimeter_circle1))\n",
        "print(\"Периметр кола з радіусом 11: {:.2f}\".format(perimeter_circle2))"
      ]
    },
    {
      "cell_type": "markdown",
      "id": "4a39e47f",
      "metadata": {
        "id": "4a39e47f"
      },
      "source": [
        "9.Створіть клас під назвою `Student`, який має два атрибути: `name` (ім'я) та `grade` (оцінка). Оцінкою може були літера - з набору  [\"F\", \"D\", \"C\", \"B\", \"A\"], де \"А\" - найвища оцінка, \"F\" - найнижча.  Клас повинен мати наступні функціональні можливості:\n",
        "\n",
        "1. Метод `__init__`, який ініціалізує `name` та `grade`.\n",
        "2. Метод `display_student()`, який відображає ім'я та оцінку студента з допомогою `print`. Форматування - на Ваш розсуд.\n",
        "3. Метод `upgrade_grade()`, який підвищує оцінку на 1 рівень (наприклад, з \"B\" на \"A\"), якщо вона вже не \"A\". Якщо вже \"А\", то необхідно вивести повідомлення про те, що оцінка не може бути підвищена, оскільки вона вже і так найвища.\n",
        "\n",
        "Після створення класу, створіть 2 екземпляри `Student` з вигаданими імʼями та оцінками, і перевірте роботу методів `display_student()` та `upgrade_grade()`. Виведіть результат перевірки на екран."
      ]
    },
    {
      "cell_type": "code",
      "execution_count": 14,
      "id": "51ef0571",
      "metadata": {
        "id": "51ef0571",
        "colab": {
          "base_uri": "https://localhost:8080/"
        },
        "outputId": "418455bb-ebcc-4e66-b1c5-3b814fcbf532"
      },
      "outputs": [
        {
          "output_type": "stream",
          "name": "stdout",
          "text": [
            "Information about Student 1:\n",
            "Student Name: Yuliia\n",
            "Grade: C\n",
            "\n",
            "Information about Student 2:\n",
            "Student Name: Olga\n",
            "Grade: B\n",
            "\n",
            "Grade upgraded to: B\n",
            "Grade upgraded to: A\n",
            "\n",
            "After upgrading grades:\n",
            "Student Name: Yuliia\n",
            "Grade: B\n",
            "Student Name: Olga\n",
            "Grade: A\n"
          ]
        }
      ],
      "source": [
        "class Student:\n",
        "  def __init__ (self,name, grade):\n",
        "    self.name = name\n",
        "    self.grade = grade\n",
        "\n",
        "  def display_student(self):\n",
        "      print(\"Student Name:\", self.name)\n",
        "      print(\"Grade:\", self.grade)\n",
        "\n",
        "  def upgrade_grade(self):\n",
        "       if self.grade == \"A\":\n",
        "            print(\"Grade is already 'A', cannot be upgraded further.\")\n",
        "       else:\n",
        "            grades = [\"F\", \"D\", \"C\", \"B\", \"A\"]\n",
        "            current_index = grades.index(self.grade)\n",
        "            new_grade = grades[current_index + 1]\n",
        "            self.grade = new_grade\n",
        "            print(\"Grade upgraded to:\", self.grade)\n",
        "\n",
        "# Створення двох студентів\n",
        "student1 = Student(\"Yuliia\", \"C\")\n",
        "student2 = Student(\"Olga\", \"B\")\n",
        "\n",
        "print(\"Information about Student 1:\")\n",
        "student1.display_student()\n",
        "print()\n",
        "\n",
        "print(\"Information about Student 2:\")\n",
        "student2.display_student()\n",
        "print()\n",
        "\n",
        "# Підвищення оцінок\n",
        "student1.upgrade_grade()\n",
        "student2.upgrade_grade()\n",
        "\n",
        "print(\"\\nAfter upgrading grades:\")\n",
        "student1.display_student()\n",
        "student2.display_student()"
      ]
    },
    {
      "cell_type": "markdown",
      "id": "fbf61911",
      "metadata": {
        "id": "fbf61911"
      },
      "source": [
        "10.Створіть клас з назвою `GraduateStudent`, який є нащадком класу `Student` з попереднього завдання.\n",
        "Клас `GraduateStudent` повинен мати додатковий атрибут `thesis_title` (назва дисертації - тип str). Тобто цей атрибут має зʼявитись при ініціації екземпляру класу.  \n",
        "Він також повинен мати метод `display_thesis()`, який виводить назву дисертації.\n",
        "\n",
        "Після створення класу, створіть екземпляр `GraduateStudent` і перевірте роботу методів `display_student()`, `upgrade_grade()`, та `display_thesis()`. Виведіть результат перевірки на екран.\n",
        "\n"
      ]
    },
    {
      "cell_type": "code",
      "execution_count": 18,
      "id": "aafe9159",
      "metadata": {
        "id": "aafe9159",
        "colab": {
          "base_uri": "https://localhost:8080/"
        },
        "outputId": "51fe7bb5-59dd-4071-92ad-b5d956a17a74"
      },
      "outputs": [
        {
          "output_type": "stream",
          "name": "stdout",
          "text": [
            "Displaying Graduate Student Information:\n",
            "Student Name: Yuliia\n",
            "Grade: C\n",
            "Grade upgraded to: B\n",
            "Thesis Title: Machine Learning in Healthcare\n"
          ]
        }
      ],
      "source": [
        "class GraduateStudent(Student):\n",
        "   def __init__ (self,name, grade,thesis_title ):\n",
        "       self.name = name\n",
        "       self.grade = grade\n",
        "       self.thesis_title = thesis_title\n",
        "\n",
        "   def display_thesis(self):\n",
        "        print(f\"Thesis Title: {self.thesis_title}\")\n",
        "\n",
        "# Створення екземпляру класу GraduateStudent\n",
        "graduate_student = GraduateStudent(\"Yuliia\", \"C\", \"Machine Learning in Healthcare\")\n",
        "\n",
        "# Виклик методів для перевірки\n",
        "print(\"Displaying Graduate Student Information:\")\n",
        "graduate_student.display_student()\n",
        "graduate_student.upgrade_grade()\n",
        "graduate_student.display_thesis()"
      ]
    }
  ],
  "metadata": {
    "colab": {
      "provenance": [],
      "include_colab_link": true
    },
    "kernelspec": {
      "display_name": "Python 3 (ipykernel)",
      "language": "python",
      "name": "python3"
    },
    "language_info": {
      "codemirror_mode": {
        "name": "ipython",
        "version": 3
      },
      "file_extension": ".py",
      "mimetype": "text/x-python",
      "name": "python",
      "nbconvert_exporter": "python",
      "pygments_lexer": "ipython3",
      "version": "3.10.4"
    },
    "toc": {
      "base_numbering": 1,
      "nav_menu": {},
      "number_sections": true,
      "sideBar": true,
      "skip_h1_title": false,
      "title_cell": "Table of Contents",
      "title_sidebar": "Contents",
      "toc_cell": false,
      "toc_position": {},
      "toc_section_display": true,
      "toc_window_display": false
    }
  },
  "nbformat": 4,
  "nbformat_minor": 5
}