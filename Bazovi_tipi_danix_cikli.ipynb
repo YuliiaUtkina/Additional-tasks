{
  "cells": [
    {
      "cell_type": "markdown",
      "metadata": {
        "id": "view-in-github",
        "colab_type": "text"
      },
      "source": [
        "<a href=\"https://colab.research.google.com/github/YuliiaUtkina/Additional-tasks/blob/main/Bazovi_tipi_danix_cikli.ipynb\" target=\"_parent\"><img src=\"https://colab.research.google.com/assets/colab-badge.svg\" alt=\"Open In Colab\"/></a>"
      ]
    },
    {
      "cell_type": "markdown",
      "id": "5b1cae7d",
      "metadata": {
        "id": "5b1cae7d"
      },
      "source": [
        "1.Задане значення у змінній var. Перетворіть значення в змінній var на цілочисельне, запишіть в нову змінну `var_int` та виведіть тип нової змінної `var_int`."
      ]
    },
    {
      "cell_type": "code",
      "execution_count": 1,
      "id": "d93f77ed",
      "metadata": {
        "ExecuteTime": {
          "end_time": "2023-06-13T11:52:35.489925Z",
          "start_time": "2023-06-13T11:52:35.487238Z"
        },
        "id": "d93f77ed"
      },
      "outputs": [],
      "source": [
        "var = '1224'"
      ]
    },
    {
      "cell_type": "code",
      "source": [
        "type(var)"
      ],
      "metadata": {
        "colab": {
          "base_uri": "https://localhost:8080/"
        },
        "id": "0XpJVTWdjdiO",
        "outputId": "e3efbcd4-40ea-4d06-9dff-2ec86529ffcf"
      },
      "id": "0XpJVTWdjdiO",
      "execution_count": 4,
      "outputs": [
        {
          "output_type": "execute_result",
          "data": {
            "text/plain": [
              "str"
            ]
          },
          "metadata": {},
          "execution_count": 4
        }
      ]
    },
    {
      "cell_type": "code",
      "execution_count": 2,
      "id": "5a4afe8f",
      "metadata": {
        "id": "5a4afe8f"
      },
      "outputs": [],
      "source": [
        "var_int=int(var)"
      ]
    },
    {
      "cell_type": "code",
      "source": [
        "type(var_int)"
      ],
      "metadata": {
        "colab": {
          "base_uri": "https://localhost:8080/"
        },
        "id": "fAzfMtVYjYCR",
        "outputId": "55fd2313-c98a-494b-e11b-c8ba98707df3"
      },
      "id": "fAzfMtVYjYCR",
      "execution_count": 3,
      "outputs": [
        {
          "output_type": "execute_result",
          "data": {
            "text/plain": [
              "int"
            ]
          },
          "metadata": {},
          "execution_count": 3
        }
      ]
    },
    {
      "cell_type": "markdown",
      "id": "eb3d19d8",
      "metadata": {
        "ExecuteTime": {
          "end_time": "2023-06-13T13:00:19.611699Z",
          "start_time": "2023-06-13T13:00:19.607737Z"
        },
        "id": "eb3d19d8"
      },
      "source": [
        "2.У Вас є список слів. Виведіть кожне третє слово в списку."
      ]
    },
    {
      "cell_type": "code",
      "execution_count": 2,
      "id": "477f4ced",
      "metadata": {
        "ExecuteTime": {
          "end_time": "2023-06-13T13:00:02.052801Z",
          "start_time": "2023-06-13T13:00:02.048798Z"
        },
        "id": "477f4ced"
      },
      "outputs": [],
      "source": [
        "words = [\"apple\", \"banana\", \"cherry\", \"date\", \"elderberry\", \"fig\", \"grape\", \"honeydew\", \"ice cream\", \"jackfruit\", \"kiwi\", \"lemon\", \"mango\", \"nectarine\", \"orange\", \"pineapple\", \"quince\", \"raspberry\", \"strawberry\", \"tangerine\", \"ugli fruit\", \"vanilla\", \"watermelon\", \"xigua\", \"yam\", \"zucchini\"]"
      ]
    },
    {
      "cell_type": "code",
      "execution_count": 14,
      "id": "1b73ca2f",
      "metadata": {
        "id": "1b73ca2f",
        "colab": {
          "base_uri": "https://localhost:8080/"
        },
        "outputId": "e9e57bd2-d2b3-4839-d8c7-bee2ab0a040c"
      },
      "outputs": [
        {
          "output_type": "stream",
          "name": "stdout",
          "text": [
            "['cherry', 'fig', 'ice cream', 'lemon', 'orange', 'raspberry', 'ugli fruit', 'xigua']\n"
          ]
        }
      ],
      "source": [
        "every_3 =words[2::3]\n",
        "print(every_3)"
      ]
    },
    {
      "cell_type": "markdown",
      "id": "394d1dea",
      "metadata": {
        "id": "394d1dea"
      },
      "source": [
        "3.Скільки всього СЛІВ у списку `words`?"
      ]
    },
    {
      "cell_type": "code",
      "execution_count": 28,
      "id": "83c88182",
      "metadata": {
        "id": "83c88182",
        "colab": {
          "base_uri": "https://localhost:8080/"
        },
        "outputId": "2179c0e6-73be-4182-cb39-b47768398da6"
      },
      "outputs": [
        {
          "output_type": "stream",
          "name": "stdout",
          "text": [
            "26\n"
          ]
        }
      ],
      "source": [
        "print (len(words))"
      ]
    },
    {
      "cell_type": "markdown",
      "id": "703d1620",
      "metadata": {
        "ExecuteTime": {
          "end_time": "2023-06-13T13:03:17.414285Z",
          "start_time": "2023-06-13T13:03:17.409285Z"
        },
        "id": "703d1620"
      },
      "source": [
        "4.Скільки всього ЛІТЕР в усіх словах у списку words?"
      ]
    },
    {
      "cell_type": "code",
      "execution_count": 5,
      "id": "c44d04d9",
      "metadata": {
        "id": "c44d04d9"
      },
      "outputs": [],
      "source": [
        "total_letters = 0\n",
        "\n",
        "# проходимся по каждому слову\n",
        "for word in words:\n",
        "    # Добавляем длину каждого слова к счетчику\n",
        "    total_letters += len(word)\n"
      ]
    },
    {
      "cell_type": "code",
      "source": [
        " print (total_letters)"
      ],
      "metadata": {
        "colab": {
          "base_uri": "https://localhost:8080/"
        },
        "id": "SXFDtBptpCXw",
        "outputId": "c803257f-ab67-4910-fe8c-858b6eb312f9"
      },
      "id": "SXFDtBptpCXw",
      "execution_count": 6,
      "outputs": [
        {
          "output_type": "stream",
          "name": "stdout",
          "text": [
            "180\n"
          ]
        }
      ]
    },
    {
      "cell_type": "markdown",
      "id": "4c95f6a3",
      "metadata": {
        "id": "4c95f6a3"
      },
      "source": [
        "5.Скільки разів зустрічається кожна літера в усіх словах списку `words`? Відсортуйте літери в результуючому словнику за алфавітним порядком."
      ]
    },
    {
      "cell_type": "code",
      "execution_count": 48,
      "id": "f6cff6cb",
      "metadata": {
        "id": "f6cff6cb",
        "colab": {
          "base_uri": "https://localhost:8080/"
        },
        "outputId": "f5bd1d55-b375-4164-85d8-ccfb46d2ffb8"
      },
      "outputs": [
        {
          "output_type": "stream",
          "name": "stdout",
          "text": [
            "{' ': 2, 'a': 20, 'b': 4, 'c': 8, 'd': 3, 'e': 24, 'f': 3, 'g': 7, 'h': 3, 'i': 15, 'j': 1, 'k': 2, 'l': 8, 'm': 5, 'n': 15, 'o': 5, 'p': 7, 'q': 1, 'r': 19, 's': 2, 't': 7, 'u': 6, 'v': 1, 'w': 4, 'x': 1, 'y': 6, 'z': 1}\n"
          ]
        }
      ],
      "source": [
        "letter_count = {}\n",
        "# Проходимося по кожному слову у списку\n",
        "for word in words:\n",
        "    # Проходимося по кожній літері у слові\n",
        "    for letter in word:\n",
        "        # Збільшуємо лічильник для цієї літери\n",
        "        if letter in letter_count:\n",
        "            letter_count[letter] += 1\n",
        "        else:\n",
        "            letter_count[letter] = 1\n",
        "            # Сортуємо словник за ключами (літерами) за алфавітним порядком\n",
        "sorted_letter_count = {k: v for k, v in sorted(letter_count.items())}\n",
        "\n",
        "print (sorted_letter_count)\n",
        "\n",
        "\n"
      ]
    },
    {
      "cell_type": "code",
      "source": [
        "type(sorted_letter_count)"
      ],
      "metadata": {
        "colab": {
          "base_uri": "https://localhost:8080/"
        },
        "id": "BOcmBaN_4Sw4",
        "outputId": "e896261a-f19f-41d2-d9ff-69b3f4681943"
      },
      "id": "BOcmBaN_4Sw4",
      "execution_count": 49,
      "outputs": [
        {
          "output_type": "execute_result",
          "data": {
            "text/plain": [
              "dict"
            ]
          },
          "metadata": {},
          "execution_count": 49
        }
      ]
    },
    {
      "cell_type": "markdown",
      "id": "94d9f1cc",
      "metadata": {
        "id": "94d9f1cc"
      },
      "source": [
        "Очікуваний результат:\n",
        "```\n",
        "{' ': 2,\n",
        " 'a': 20,\n",
        " 'b': 4,\n",
        " 'c': 8,\n",
        " 'd': 3,\n",
        " 'e': 24,\n",
        " 'f': 3,\n",
        " 'g': 7,\n",
        " 'h': 3,\n",
        " 'i': 15,\n",
        " 'j': 1,\n",
        " 'k': 2,\n",
        " 'l': 8,\n",
        " 'm': 5,\n",
        " 'n': 15,\n",
        " 'o': 5,\n",
        " 'p': 7,\n",
        " 'q': 1,\n",
        " 'r': 19,\n",
        " 's': 2,\n",
        " 't': 7,\n",
        " 'u': 6,\n",
        " 'v': 1,\n",
        " 'w': 4,\n",
        " 'x': 1,\n",
        " 'y': 6,\n",
        " 'z': 1}\n",
        " ```"
      ]
    },
    {
      "cell_type": "markdown",
      "id": "c93ac384",
      "metadata": {
        "id": "c93ac384"
      },
      "source": [
        "6.Використовуючи результат виконання попереднього завдання, виведіть на екран ту літеру, яка зустрічається найчастіше і скільки разів вона зустрічається. Це треба зробити програмно, а не просто подививщись на дані :)"
      ]
    },
    {
      "cell_type": "code",
      "execution_count": 56,
      "id": "9ddfb851",
      "metadata": {
        "id": "9ddfb851",
        "colab": {
          "base_uri": "https://localhost:8080/"
        },
        "outputId": "373eebdd-88fb-4244-ff66-cf914861fb79"
      },
      "outputs": [
        {
          "output_type": "stream",
          "name": "stdout",
          "text": [
            "{'e': 24}\n"
          ]
        }
      ],
      "source": [
        "max_val = max(sorted_letter_count.values())\n",
        "final_dict = {k:v for k, v in sorted_letter_count.items() if v == max_val}\n",
        "print (final_dict)"
      ]
    },
    {
      "cell_type": "markdown",
      "id": "f40adbed",
      "metadata": {
        "id": "f40adbed"
      },
      "source": [
        "7.Для кожного елементу списку виведіть тип елемену. Якщо тип обʼєкту - int (тільки цей тип безпосередньо!), виведіть результат піднесення цього числа до степеню 5."
      ]
    },
    {
      "cell_type": "code",
      "execution_count": 82,
      "id": "f92249ac",
      "metadata": {
        "ExecuteTime": {
          "end_time": "2023-06-13T12:53:04.365735Z",
          "start_time": "2023-06-13T12:53:04.362441Z"
        },
        "id": "f92249ac"
      },
      "outputs": [],
      "source": [
        "elements = [12, 'type', 'Bob', True, 'False', 1.414, 1444.333, 123/33, 5]"
      ]
    },
    {
      "cell_type": "code",
      "execution_count": 89,
      "id": "96b72186",
      "metadata": {
        "id": "96b72186",
        "colab": {
          "base_uri": "https://localhost:8080/"
        },
        "outputId": "2f39b091-87cd-442e-8e2a-e57bda77f8ea"
      },
      "outputs": [
        {
          "output_type": "stream",
          "name": "stdout",
          "text": [
            "Елемент 12 піднесений до степеня 5 дорівнює: 248832\n",
            "Тип елементу type - <class 'str'>\n",
            "Тип елементу Bob - <class 'str'>\n",
            "Тип елементу True - <class 'bool'>\n",
            "Тип елементу False - <class 'str'>\n",
            "Тип елементу 1.414 - <class 'float'>\n",
            "Тип елементу 1444.333 - <class 'float'>\n",
            "Тип елементу 3.727272727272727 - <class 'float'>\n",
            "Елемент 5 піднесений до степеня 5 дорівнює: 3125\n"
          ]
        }
      ],
      "source": [
        "for i in elements:\n",
        "  if type(i) == int:\n",
        "     result = i ** 5\n",
        "     print(f\"Елемент {i} піднесений до степеня 5 дорівнює: {result}\")\n",
        "  else:\n",
        "        print(f\"Тип елементу {i} - {type(i)}\")"
      ]
    },
    {
      "cell_type": "markdown",
      "id": "cf2247c7",
      "metadata": {
        "ExecuteTime": {
          "end_time": "2023-06-13T12:55:17.795510Z",
          "start_time": "2023-06-13T12:55:17.787158Z"
        },
        "id": "cf2247c7"
      },
      "source": [
        "Приклад очікуваного результату (текстові коментарі і форматування можуть бути іншими):\n",
        "```\n",
        "    The type of element 12 is <class 'int'>\n",
        "    This is a number! Let't take it to power 5! The result is: 248832\n",
        "    The type of element type is <class 'str'>\n",
        "    The type of element Bob is <class 'str'>\n",
        "    The type of element True is <class 'bool'>\n",
        "    The type of element False is <class 'str'>\n",
        "    The type of element 1.414 is <class 'float'>\n",
        "    The type of element 1444.333 is <class 'float'>\n",
        "    The type of element 3.727272727272727 is <class 'float'>\n",
        "    The type of element 5 is <class 'int'>\n",
        "    This is a number! Let't take it to power 5! The result is: 3125\n",
        "```"
      ]
    },
    {
      "cell_type": "markdown",
      "id": "76a0bef2",
      "metadata": {
        "id": "76a0bef2"
      },
      "source": [
        "8.Створіть програму, яка:\n",
        "\n",
        "- Для визначених значень `name` та `age` друкує повідомлення \"Привіт, [Ім’я] ! Вам [Вік] років.\".\n",
        "- Обчислює, скільки років залишилося користувачеві до 100 років, і друкує повідомлення з цією інформацією: \"До 100 років Вам лишилось [Число] років.\"  \n",
        "\n",
        "Запустіть програму для набору користувачів нижче."
      ]
    },
    {
      "cell_type": "code",
      "execution_count": 132,
      "id": "0092963a",
      "metadata": {
        "ExecuteTime": {
          "end_time": "2023-06-13T12:30:11.462941Z",
          "start_time": "2023-06-13T12:30:11.459673Z"
        },
        "id": "0092963a"
      },
      "outputs": [],
      "source": [
        "users = [\n",
        "    ['Karl', 30],\n",
        "    ['Klara', 15],\n",
        "    ['Alexis', 56],\n",
        "    ['Charles', 99]\n",
        "]"
      ]
    },
    {
      "cell_type": "code",
      "source": [
        "type(users)"
      ],
      "metadata": {
        "colab": {
          "base_uri": "https://localhost:8080/"
        },
        "id": "saDBiTNla-TQ",
        "outputId": "00cc2b41-e5ba-4b68-eefa-8c87e2e70506"
      },
      "id": "saDBiTNla-TQ",
      "execution_count": 118,
      "outputs": [
        {
          "output_type": "execute_result",
          "data": {
            "text/plain": [
              "list"
            ]
          },
          "metadata": {},
          "execution_count": 118
        }
      ]
    },
    {
      "cell_type": "code",
      "execution_count": 145,
      "id": "8d6d820e",
      "metadata": {
        "id": "8d6d820e",
        "colab": {
          "base_uri": "https://localhost:8080/"
        },
        "outputId": "460f0bcd-1aac-4439-b7e7-8262478ad106"
      },
      "outputs": [
        {
          "output_type": "stream",
          "name": "stdout",
          "text": [
            "Привіт, Karl ! Вам 30 років.\n",
            "Привіт, Klara ! Вам 15 років.\n",
            "Привіт, Alexis ! Вам 56 років.\n",
            "Привіт, Charles ! Вам 99 років.\n"
          ]
        }
      ],
      "source": [
        "my_dict = dict(users)\n",
        "for name,age in my_dict.items():\n",
        "    print (f\"Привіт, {name} ! Вам {age} років.\")\n",
        "\n"
      ]
    },
    {
      "cell_type": "code",
      "source": [
        "my_dict = dict(users)\n",
        "for name,age in my_dict.items():\n",
        "    result = 100-age\n",
        "    print (f\"{name}! До 100 років Вам лишилось {result} років.\")\n"
      ],
      "metadata": {
        "colab": {
          "base_uri": "https://localhost:8080/"
        },
        "id": "ozp-t3ITd_D4",
        "outputId": "58b59dae-d67f-4410-987c-38cac144ae96"
      },
      "id": "ozp-t3ITd_D4",
      "execution_count": 147,
      "outputs": [
        {
          "output_type": "stream",
          "name": "stdout",
          "text": [
            "Karl! До 100 років Вам лишилось 70 років.\n",
            "Klara! До 100 років Вам лишилось 85 років.\n",
            "Alexis! До 100 років Вам лишилось 44 років.\n",
            "Charles! До 100 років Вам лишилось 1 років.\n"
          ]
        }
      ]
    },
    {
      "cell_type": "markdown",
      "id": "45fedbc4",
      "metadata": {
        "id": "45fedbc4"
      },
      "source": [
        "9.Напишть фрагмент коду, який перевіряє, чи слово є паліндромом. Слово (або фраза) є паліндромом, якщо при читанні його зворотньому напрямі буде таке саме слово.\n",
        "Наприклад, слово \"radar\" є паліндромом, але \"radix\" не є паліндромом. Код в кінці має видавати результат True або False.  \n",
        "Код має звертати увагу лише на символи-літери. Регістр літер не має значення, а знаки пунктуації (кома, крапка) та `-+=/\\`` мають бути вилучені з рядка перед перевіркою. Так само, пробіли не впливають на визначення,чи слово є палендромом. Мають значення лише літери.\n",
        "Тобто рядки \"A mam, a\" та \"A mamA\" є паліндромами, а \"AmamU\" - ні.\n",
        "\n",
        "Опціонально ви можете розмістити код на перевірку чи є слово паліндромом у фукнцію.\n",
        "Запустіть свій код для рядків з набору нижче і виведіть результат перевірки на екран для кожного рядка."
      ]
    },
    {
      "cell_type": "code",
      "execution_count": 187,
      "id": "4cca3eed",
      "metadata": {
        "ExecuteTime": {
          "end_time": "2023-06-13T12:24:02.288183Z",
          "start_time": "2023-06-13T12:24:02.285245Z"
        },
        "id": "4cca3eed"
      },
      "outputs": [],
      "source": [
        "phrases_to_check = [\n",
        "    'radar',\n",
        "    'radix',\n",
        "    'A mam, a',\n",
        "    'A mamA',\n",
        "    'Sit on a potato pan Otis',\n",
        "    'Taco cat.',\n",
        "    'Taco cat',\n",
        "    'Tornado',\n",
        "    \"Go hang a salami, I'm a lasagna hog.\"\n",
        "]"
      ]
    },
    {
      "cell_type": "code",
      "source": [
        "def is_palindrome(word):\n",
        "    # Перетворюємо усі символи на нижній регістр\n",
        "    word = word.lower()\n",
        "\n",
        "    # Видаляєм всі символи з рядка word, які не є літерами, і створюємо новий рядок\n",
        "    word = ''.join(char for char in word if char.isalpha())\n",
        "\n",
        "    # Перевіряємо, чи слово є паліндромом\n",
        "    return word == word[::-1]\n"
      ],
      "metadata": {
        "id": "zVCC8ghanTpm"
      },
      "id": "zVCC8ghanTpm",
      "execution_count": 186,
      "outputs": []
    },
    {
      "cell_type": "code",
      "source": [
        "  for word in phrases_to_check:\n",
        "      print(f\"{word}: {is_palindrome(word)}\")"
      ],
      "metadata": {
        "colab": {
          "base_uri": "https://localhost:8080/"
        },
        "id": "64KXgOzt6oxl",
        "outputId": "c699917c-3449-43b2-ea22-00d9ace3bcc3"
      },
      "id": "64KXgOzt6oxl",
      "execution_count": 188,
      "outputs": [
        {
          "output_type": "stream",
          "name": "stdout",
          "text": [
            "radar: True\n",
            "radix: False\n",
            "A mam, a: True\n",
            "A mamA: True\n",
            "Sit on a potato pan Otis: True\n",
            "Taco cat.: True\n",
            "Taco cat: True\n",
            "Tornado: False\n",
            "Go hang a salami, I'm a lasagna hog.: True\n"
          ]
        }
      ]
    },
    {
      "cell_type": "markdown",
      "id": "e51c421d",
      "metadata": {
        "id": "e51c421d"
      },
      "source": [
        "Очкувані результати обчислень:\n",
        "```\n",
        "    radar - True\n",
        "    radix - False\n",
        "    A mam, a - True\n",
        "    A mamA - True\n",
        "    Sit on a potato pan Otis - True\n",
        "    Taco cat. - True\n",
        "    Taco cat - True\n",
        "    Tornado - False\n",
        "    Go hang a salami, I'm a lasagna hog. - True\n",
        "```"
      ]
    }
  ],
  "metadata": {
    "kernelspec": {
      "display_name": "Python 3 (ipykernel)",
      "language": "python",
      "name": "python3"
    },
    "language_info": {
      "codemirror_mode": {
        "name": "ipython",
        "version": 3
      },
      "file_extension": ".py",
      "mimetype": "text/x-python",
      "name": "python",
      "nbconvert_exporter": "python",
      "pygments_lexer": "ipython3",
      "version": "3.10.4"
    },
    "toc": {
      "base_numbering": 1,
      "nav_menu": {},
      "number_sections": true,
      "sideBar": true,
      "skip_h1_title": false,
      "title_cell": "Table of Contents",
      "title_sidebar": "Contents",
      "toc_cell": false,
      "toc_position": {},
      "toc_section_display": true,
      "toc_window_display": false
    },
    "colab": {
      "provenance": [],
      "include_colab_link": true
    }
  },
  "nbformat": 4,
  "nbformat_minor": 5
}