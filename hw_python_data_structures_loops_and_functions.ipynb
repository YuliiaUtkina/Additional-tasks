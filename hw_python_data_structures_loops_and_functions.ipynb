{
  "cells": [
    {
      "cell_type": "markdown",
      "metadata": {
        "id": "view-in-github",
        "colab_type": "text"
      },
      "source": [
        "<a href=\"https://colab.research.google.com/github/YuliiaUtkina/Additional-tasks/blob/main/hw_python_data_structures_loops_and_functions.ipynb\" target=\"_parent\"><img src=\"https://colab.research.google.com/assets/colab-badge.svg\" alt=\"Open In Colab\"/></a>"
      ]
    },
    {
      "cell_type": "markdown",
      "id": "69f335e6",
      "metadata": {
        "id": "69f335e6"
      },
      "source": [
        "1.Створіть множину (set) з наведеного спиcку та виведіть результат на екран. Чим відрізняється множина від списку?"
      ]
    },
    {
      "cell_type": "code",
      "execution_count": null,
      "id": "aaeecf7e",
      "metadata": {
        "ExecuteTime": {
          "end_time": "2023-02-16T17:21:34.172161Z",
          "start_time": "2023-02-16T17:21:34.150021Z"
        },
        "id": "aaeecf7e"
      },
      "outputs": [],
      "source": [
        "input_list =  ['boat', 'bus', 'plane', 'train', 'boat', 'autobus', 'bus']"
      ]
    },
    {
      "cell_type": "code",
      "execution_count": null,
      "id": "61d218e2",
      "metadata": {
        "colab": {
          "base_uri": "https://localhost:8080/"
        },
        "id": "61d218e2",
        "outputId": "3c32b4fe-3cd4-49db-dfab-3e41d04eed96"
      },
      "outputs": [
        {
          "output_type": "stream",
          "name": "stdout",
          "text": [
            "{'boat', 'train', 'plane', 'bus', 'autobus'}\n"
          ]
        }
      ],
      "source": [
        "set1 = set(input_list)\n",
        "print (set1)"
      ]
    },
    {
      "cell_type": "markdown",
      "id": "d2dd9987",
      "metadata": {
        "id": "d2dd9987"
      },
      "source": [
        "Множина містить невпорядковані унікальні елементи. Список - це спорядкований набір будь-яких елементів."
      ]
    },
    {
      "cell_type": "markdown",
      "id": "5c7babdc",
      "metadata": {
        "id": "5c7babdc"
      },
      "source": [
        "2.Виведіть окремо ключі та окремо значення двома окремими списками наступного словника:"
      ]
    },
    {
      "cell_type": "code",
      "execution_count": null,
      "id": "a00df81d",
      "metadata": {
        "ExecuteTime": {
          "end_time": "2023-02-16T17:32:23.162298Z",
          "start_time": "2023-02-16T17:32:23.152250Z"
        },
        "id": "a00df81d"
      },
      "outputs": [],
      "source": [
        "light_signals = {'green': 'go', 'yellow': 'get ready', 'red': 'stop'}"
      ]
    },
    {
      "cell_type": "code",
      "source": [
        "list(light_signals.keys())"
      ],
      "metadata": {
        "colab": {
          "base_uri": "https://localhost:8080/"
        },
        "id": "R3URhroup-S-",
        "outputId": "4372a92e-7112-4ad0-cb5b-c364bcffda5c"
      },
      "id": "R3URhroup-S-",
      "execution_count": null,
      "outputs": [
        {
          "output_type": "execute_result",
          "data": {
            "text/plain": [
              "['green', 'yellow', 'red']"
            ]
          },
          "metadata": {},
          "execution_count": 17
        }
      ]
    },
    {
      "cell_type": "code",
      "source": [
        "list(light_signals.values())"
      ],
      "metadata": {
        "colab": {
          "base_uri": "https://localhost:8080/"
        },
        "id": "hPiiheBJpv3l",
        "outputId": "57168474-9d7f-40e5-86df-665e308383e9"
      },
      "id": "hPiiheBJpv3l",
      "execution_count": null,
      "outputs": [
        {
          "output_type": "execute_result",
          "data": {
            "text/plain": [
              "['go', 'get ready', 'stop']"
            ]
          },
          "metadata": {},
          "execution_count": 18
        }
      ]
    },
    {
      "cell_type": "markdown",
      "id": "0883eb80",
      "metadata": {
        "ExecuteTime": {
          "end_time": "2023-02-16T16:25:21.907981Z",
          "start_time": "2023-02-16T16:25:21.902740Z"
        },
        "id": "0883eb80"
      },
      "source": [
        "3.Напишіть фрагмент коду, що формує список всіх чисел між 1200 і 2700 (обидва включаючи), які деляться на 7 АБО на 5 без остачі. Виведіть результуючий список на екран."
      ]
    },
    {
      "cell_type": "code",
      "execution_count": 31,
      "id": "e4587789",
      "metadata": {
        "colab": {
          "base_uri": "https://localhost:8080/"
        },
        "id": "e4587789",
        "outputId": "0786a91d-ea04-4641-caa4-9d09b60edccc"
      },
      "outputs": [
        {
          "output_type": "stream",
          "name": "stdout",
          "text": [
            "[1200, 1204, 1205, 1210, 1211, 1215, 1218]\n"
          ]
        }
      ],
      "source": [
        "my_list = []\n",
        "for i in range (1200,2701):\n",
        "    if i % 7 ==0 or i % 5 ==0:\n",
        "     my_list.append (i)\n",
        "print(my_list)"
      ]
    },
    {
      "cell_type": "markdown",
      "id": "83ec4846",
      "metadata": {
        "ExecuteTime": {
          "end_time": "2023-02-16T16:28:06.826641Z",
          "start_time": "2023-02-16T16:28:06.822293Z"
        },
        "id": "83ec4846"
      },
      "source": [
        "4.Напишіть функцію, яка для заданого цілого числа виводить на екран наступну фігуру. Підказка - тут треба використати вкладені цикли for. Наприклад, для `n=5` фігура матиме наступний вигляд:\n",
        "\n",
        "```\n",
        "*\n",
        "* *\n",
        "* * *\n",
        "* * * *\n",
        "* * * * *\n",
        "* * * *\n",
        "* * *\n",
        "* *\n",
        "*\n",
        "```\n",
        "\n",
        "Запустіть фукнцію для значень n: 3, 5, 10."
      ]
    },
    {
      "cell_type": "code",
      "source": [
        "def print_figure(n):\n",
        "    # Верхня частина фігури: кожний рядок містить у собі i зірочок\n",
        "    for i in range(1, n + 1):\n",
        "        print('* ' * i)\n",
        "\n",
        "    # Нижня частина фігури: цикл, щоб вивести нижню частину фігури, зменшуючи кількість зірочок у кожному рядку.\n",
        "    for i in range(n - 1, 0, -1):\n",
        "        print('* ' * i)\n",
        "\n",
        "# Приклад виклику функції з n\n",
        "n = 3\n",
        "print_figure(n)"
      ],
      "metadata": {
        "colab": {
          "base_uri": "https://localhost:8080/"
        },
        "id": "GxfFLJ_pd0sn",
        "outputId": "5da7436d-991f-4922-fe4d-c16cb9efccb0"
      },
      "id": "GxfFLJ_pd0sn",
      "execution_count": null,
      "outputs": [
        {
          "output_type": "stream",
          "name": "stdout",
          "text": [
            "* \n",
            "* * \n",
            "* * * \n",
            "* * \n",
            "* \n"
          ]
        }
      ]
    },
    {
      "cell_type": "markdown",
      "id": "ce6f1afc",
      "metadata": {
        "id": "ce6f1afc"
      },
      "source": [
        "5.Напишіть функцію, яка вертає кількість парних та непарних чисел у наданому масиві. Функція має вертати два числа, а після функції створіть повідомлення, яке прописує, скільки було парних та непарних чисел у масиві.\n",
        "Приклад: для наступного входу\n",
        "```\n",
        "numbers = (1, 2, 11, 12, 13, 22, 27, 29)\n",
        "```\n",
        "Функція має повернути результат: `3, 5`.\n",
        "І далі Вам необхідно сформувати повідомлення, яке виведе наступне, використовуючи результат функції:\n",
        "```\n",
        "Кількість парних чисел : 3\n",
        "Кількість непарних : 5\n",
        "```\n",
        "Запустіть алгоритм функція+друк повідомлення для трьох наведених списків. Найзручніше це зробити, пройшовши по спискам у циклі."
      ]
    },
    {
      "cell_type": "code",
      "source": [
        "def count(numbers):\n",
        "   even_count = 0\n",
        "   odd_count = 0\n",
        "\n",
        "   for num in numbers:\n",
        "       if num % 2 == 0:\n",
        "            even_count += 1\n",
        "       else:\n",
        "        odd_count += 1\n",
        "   return even_count, odd_count\n",
        "\n",
        "numbers = (1, 2, 11, 12, 13, 22, 27, 29)\n",
        "even, odd = count(numbers)\n",
        "def print_message(numbers, even, odd):\n",
        "    print(\"Кількість парних чисел:\", even)\n",
        "    print(\"Кількість непарних чисел:\",odd)\n",
        "    print()\n"
      ],
      "metadata": {
        "id": "DJWkAmHEAsPJ"
      },
      "id": "DJWkAmHEAsPJ",
      "execution_count": null,
      "outputs": []
    },
    {
      "cell_type": "code",
      "execution_count": null,
      "id": "ca9634e0",
      "metadata": {
        "ExecuteTime": {
          "end_time": "2023-02-16T17:12:55.787310Z",
          "start_time": "2023-02-16T17:12:55.779497Z"
        },
        "id": "ca9634e0"
      },
      "outputs": [],
      "source": [
        "numbers_1 = {1, 2, 11, 12, 13, 22, 27, 29}\n",
        "numbers_2 = {1, 22, 412, 312, 73, 3421}\n",
        "numbers_3 = {12, 11, 94, 722, 0, 452}"
      ]
    },
    {
      "cell_type": "code",
      "source": [
        "\n",
        "# Передаємо списки чисел та друкуємо повідомлення\n",
        "numbers_1 = {1, 2, 11, 12, 13, 22, 27, 29}\n",
        "even_1, odd_1 = count(numbers_1)\n",
        "print_message(numbers_1, even_1, odd_1)\n",
        "\n",
        "numbers_2 = {1, 22, 412, 312, 73, 3421}\n",
        "even_2, odd_2 = count(numbers_2)\n",
        "print_message(numbers_2, even_2, odd_2)\n",
        "\n",
        "numbers_2 = {1, 22, 412, 312, 73, 3421}\n",
        "even_3, odd_3 = count(numbers_3)\n",
        "print_message(numbers_3, even_3, odd_3)"
      ],
      "metadata": {
        "colab": {
          "base_uri": "https://localhost:8080/"
        },
        "id": "GDSi5vpch0Ck",
        "outputId": "3a038d9f-65c3-49fe-a61a-f880687373e7"
      },
      "id": "GDSi5vpch0Ck",
      "execution_count": null,
      "outputs": [
        {
          "output_type": "stream",
          "name": "stdout",
          "text": [
            "Кількість парних чисел: 3\n",
            "Кількість непарних чисел: 5\n",
            "\n",
            "Кількість парних чисел: 3\n",
            "Кількість непарних чисел: 3\n",
            "\n",
            "Кількість парних чисел: 5\n",
            "Кількість непарних чисел: 1\n",
            "\n"
          ]
        }
      ]
    },
    {
      "cell_type": "markdown",
      "id": "dad0c565",
      "metadata": {
        "ExecuteTime": {
          "end_time": "2023-02-16T16:55:03.692657Z",
          "start_time": "2023-02-16T16:55:03.646268Z"
        },
        "id": "dad0c565"
      },
      "source": [
        "6.Напишіть функцію, яка приймає на вхід список з назвами чогось та формує і виводить на екран повідомлення, у якому є всі елементи списку, а перед останнім елементом вставлено слово `and` (приклад - далі). Функція має працювати з будь-якими списками, довжина яких є більшою або рівною 2. Наприклад, для списку\n",
        "```\n",
        "cities = ['Budapest', 'Rome', 'Istanbul', 'Sydney', 'Kyiv']\n",
        "```\n",
        "функція має виводити на екран фразу:\n",
        "```\n",
        "'Budapest, Rome, Istanbul, Sydney and Kyiv'\n",
        "```\n",
        "Запустіть функцію на списках наведених нижче. Для останнього списку має виводитись помилка (exception) або повідомлення про те, що довжина списку має бути як мінімум 2."
      ]
    },
    {
      "cell_type": "code",
      "source": [
        "cities = ['Budapest', 'Rome', 'Istanbul', 'Sydney', 'Kyiv']"
      ],
      "metadata": {
        "id": "XSOZBHWBltdl"
      },
      "id": "XSOZBHWBltdl",
      "execution_count": null,
      "outputs": []
    },
    {
      "cell_type": "code",
      "source": [
        "def print_list_with_and(i):\n",
        "    if len(i) < 2:\n",
        "        print(\"Список повинен містити хоча б два елементи\")\n",
        "        return\n",
        "    # Формування повідомлення\n",
        "    message = ', '.join(i[:-1]) + ' and ' + i[-1]\n",
        "\n",
        "    # Виведення повідомлення на екран\n",
        "    print(message)"
      ],
      "metadata": {
        "id": "3gWRwLvlxVUZ"
      },
      "id": "3gWRwLvlxVUZ",
      "execution_count": null,
      "outputs": []
    },
    {
      "cell_type": "code",
      "source": [
        "cities = ['Budapest', 'Rome', 'Istanbul', 'Sydney', 'Kyiv']\n",
        "print_list_with_and(cities)"
      ],
      "metadata": {
        "colab": {
          "base_uri": "https://localhost:8080/"
        },
        "id": "qV-bDYcy14e2",
        "outputId": "2c70529b-0904-4a80-e0fc-5278935105ff"
      },
      "id": "qV-bDYcy14e2",
      "execution_count": null,
      "outputs": [
        {
          "output_type": "stream",
          "name": "stdout",
          "text": [
            "Budapest, Rome, Istanbul, Sydney and Kyiv\n"
          ]
        }
      ]
    },
    {
      "cell_type": "code",
      "execution_count": null,
      "id": "530c7eb0",
      "metadata": {
        "ExecuteTime": {
          "end_time": "2023-02-16T17:04:38.117972Z",
          "start_time": "2023-02-16T17:04:38.112979Z"
        },
        "id": "530c7eb0"
      },
      "outputs": [],
      "source": [
        "list1 = ['Budapest', 'Rome', 'Istanbul', 'Sydney', 'Kyiv']\n",
        "list2 = ['USA', 'UK', 'Ukraine']\n",
        "list3 = ['apples', 'oranges']\n",
        "list4 = ['Titan']"
      ]
    },
    {
      "cell_type": "code",
      "execution_count": null,
      "id": "e376d538",
      "metadata": {
        "colab": {
          "base_uri": "https://localhost:8080/"
        },
        "id": "e376d538",
        "outputId": "2663ec9f-df42-43a4-96fd-74022f1d3c9d"
      },
      "outputs": [
        {
          "output_type": "stream",
          "name": "stdout",
          "text": [
            "Budapest, Rome, Istanbul, Sydney and Kyiv\n",
            "USA, UK and Ukraine\n",
            "apples and oranges\n",
            "Список повинен містити хоча б два елементи\n"
          ]
        }
      ],
      "source": [
        "print_list_with_and(list1)\n",
        "print_list_with_and(list2)\n",
        "print_list_with_and(list3)\n",
        "print_list_with_and(list4)"
      ]
    },
    {
      "cell_type": "markdown",
      "id": "5093dbef",
      "metadata": {
        "id": "5093dbef"
      },
      "source": [
        "7.Уявіть, що Ви створюєте пригодницьку гру і використовуєте для зберігання предметів гравця словник, у якому ключі - це назви предметів, значення - кількість одиниць кожної із речей. Наприклад, словник може виглядати так: things = {'ключ': 3, 'булава': 1, 'монета': 24, 'ніж': 1, 'горішки': 10, 'бронежелет': 0}. Створіть фукнцію, яка виводить повідомлення про усі речі гравця у такому вигляді:\n",
        "\n",
        "```\n",
        "У гравця є:\n",
        "3 ключ\n",
        "1 булава\n",
        "24 монета\n",
        "1 ніж\n",
        "10 горішки\n",
        "0 бронежелет\n",
        "Загальна кількість речей: 39\n",
        "```\n",
        "\n",
        "Викличіть фукнцію для наступних гравців:"
      ]
    },
    {
      "cell_type": "code",
      "source": [
        "def play(things):\n",
        "  print('У гравця є:')\n",
        "  total_items = 0\n",
        "  for key, value in things.items():\n",
        "      print(key, value)\n",
        "      total_items += value\n",
        "  print(\"Загальна кількість речей:\", total_items)\n",
        "  print()"
      ],
      "metadata": {
        "id": "AVR1fmQb2ixh"
      },
      "id": "AVR1fmQb2ixh",
      "execution_count": 24,
      "outputs": []
    },
    {
      "cell_type": "code",
      "execution_count": 25,
      "id": "f77ec586",
      "metadata": {
        "ExecuteTime": {
          "end_time": "2023-02-16T17:29:01.280430Z",
          "start_time": "2023-02-16T17:29:01.236841Z"
        },
        "id": "f77ec586"
      },
      "outputs": [],
      "source": [
        "player_1 = {'ключ': 3, 'булава': 1, 'монета': 24, 'ніж': 1, 'горішки': 10, 'бронежелет': 0}\n",
        "player_2 = {'ключ': 0, 'булава': 2, 'монета': 4, 'ніж': 3, 'горішки': 4, 'бронежелет': 1}\n",
        "player_3 = {'ключ': 0, 'булава': 0, 'монета': 30, 'ніж': 0, 'горішки': 2, 'бронежелет': 2}"
      ]
    },
    {
      "cell_type": "code",
      "execution_count": 26,
      "id": "94d669f9",
      "metadata": {
        "colab": {
          "base_uri": "https://localhost:8080/"
        },
        "id": "94d669f9",
        "outputId": "e3e7e470-31ab-46c9-8f3f-e4fb638b4ea5"
      },
      "outputs": [
        {
          "output_type": "stream",
          "name": "stdout",
          "text": [
            "У гравця є:\n",
            "ключ 3\n",
            "булава 1\n",
            "монета 24\n",
            "ніж 1\n",
            "горішки 10\n",
            "бронежелет 0\n",
            "Загальна кількість речей: 39\n",
            "\n",
            "У гравця є:\n",
            "ключ 0\n",
            "булава 2\n",
            "монета 4\n",
            "ніж 3\n",
            "горішки 4\n",
            "бронежелет 1\n",
            "Загальна кількість речей: 14\n",
            "\n",
            "У гравця є:\n",
            "ключ 0\n",
            "булава 0\n",
            "монета 30\n",
            "ніж 0\n",
            "горішки 2\n",
            "бронежелет 2\n",
            "Загальна кількість речей: 34\n",
            "\n"
          ]
        },
        {
          "output_type": "execute_result",
          "data": {
            "text/plain": [
              "[None, None, None]"
            ]
          },
          "metadata": {},
          "execution_count": 26
        }
      ],
      "source": [
        "[play(things) for things in [player_1, player_2, player_3]]"
      ]
    }
  ],
  "metadata": {
    "kernelspec": {
      "display_name": "Python 3 (ipykernel)",
      "language": "python",
      "name": "python3"
    },
    "language_info": {
      "codemirror_mode": {
        "name": "ipython",
        "version": 3
      },
      "file_extension": ".py",
      "mimetype": "text/x-python",
      "name": "python",
      "nbconvert_exporter": "python",
      "pygments_lexer": "ipython3",
      "version": "3.10.4"
    },
    "toc": {
      "base_numbering": 1,
      "nav_menu": {},
      "number_sections": true,
      "sideBar": true,
      "skip_h1_title": false,
      "title_cell": "Table of Contents",
      "title_sidebar": "Contents",
      "toc_cell": false,
      "toc_position": {},
      "toc_section_display": true,
      "toc_window_display": false
    },
    "colab": {
      "provenance": [],
      "include_colab_link": true
    }
  },
  "nbformat": 4,
  "nbformat_minor": 5
}